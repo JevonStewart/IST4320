{
 "cells": [
  {
   "cell_type": "code",
   "execution_count": 2,
   "id": "ff584527-4b04-46fa-820f-76b25e9e6724",
   "metadata": {
    "tags": []
   },
   "outputs": [],
   "source": [
    "import tkinter as tk\n",
    "from tkinter import ttk\n",
    "\n",
    "#main window and it's customizations\n",
    "main = tk.Tk() \n",
    "main.title(\"Calculator App\")\n",
    "#main.geometry('400x150') \n",
    "#no longer works due to grid\n",
    "yourInput=tk.StringVar()\n",
    "\n",
    "#takes the number or symbol pressed and adds it to the current running text box\n",
    "def clickButton(clickedButton):\n",
    "    text = showText.get()\n",
    "    showText.delete(0, tk.END)\n",
    "    showText.insert(tk.END, text + str(clickedButton))\n",
    "\n",
    "#does all calculations\n",
    "def calculate(event=None):\n",
    "    try:\n",
    "        expression = showText.get()\n",
    "        result = eval(expression)  \n",
    "        showText.delete(0, tk.END)\n",
    "        showText.insert(tk.END, str(result))\n",
    "    except:\n",
    "        showText.delete(0, tk.END)\n",
    "        showText.insert(tk.END, \"Error\")\n",
    "        \n",
    "def clear():\n",
    "    showText.delete(0,tk.END)\n",
    "\n",
    "showText = tk.Entry(main, textvariable=yourInput) \n",
    "showText.grid(row=1,column=0)\n",
    "\n",
    "# binding the enter key to the calculate function\n",
    "main.bind('<Return>',calculate)\n",
    "\n",
    "label = tk.Label(main, text=\"Enter your calculation below:\", fg='black',bg='orange',font=('arial', 14, 'bold'))\n",
    "label.grid(row=0,column=0)\n",
    "\n",
    "button7 = tk.Button(main, text='7', width=5, height=2, font=('Arial', 18), command=lambda: clickButton(7)).grid(row=1, column=1)\n",
    "button8 = tk.Button(main, text='8', width=5, height=2, font=('Arial', 18), command=lambda: clickButton(8)).grid(row=1, column=2)\n",
    "button9 = tk.Button(main, text='9', width=5, height=2, font=('Arial', 18), command=lambda: clickButton(9)).grid(row=1, column=3)\n",
    "buttonD = tk.Button(main, text='/', width=5, height=2, font=('Arial', 18), command=lambda: clickButton('/')).grid(row=1, column=4)\n",
    "button4 = tk.Button(main, text='4', width=5, height=2, font=('Arial', 18), command=lambda: clickButton(4)).grid(row=2, column=1)\n",
    "button5 = tk.Button(main, text='5', width=5, height=2, font=('Arial', 18), command=lambda: clickButton(5)).grid(row=2, column=2)\n",
    "button6 = tk.Button(main, text='6', width=5, height=2, font=('Arial', 18), command=lambda: clickButton(6)).grid(row=2, column=3)\n",
    "buttonM = tk.Button(main, text='x', width=5, height=2, font=('Arial', 18), command=lambda: clickButton('*')).grid(row=2, column=4)\n",
    "button1 = tk.Button(main, text='1', width=5, height=2, font=('Arial', 18), command=lambda: clickButton(1)).grid(row=3, column=1)\n",
    "button2 = tk.Button(main, text='2', width=5, height=2, font=('Arial', 18), command=lambda: clickButton(2)).grid(row=3, column=2)\n",
    "button3 = tk.Button(main, text='3', width=5, height=2, font=('Arial', 18), command=lambda: clickButton(3)).grid(row=3, column=3)\n",
    "buttonS = tk.Button(main, text='-', width=5, height=2, font=('Arial', 18), command=lambda: clickButton('-')).grid(row=3, column=4)\n",
    "button0 = tk.Button(main, text='0', width=5, height=2, font=('Arial', 18), command=lambda: clickButton(0)).grid(row=4, column=1)\n",
    "buttonDot = tk.Button(main, text='.', width=5, height=2, font=('Arial', 18), command=lambda: clickButton('.')).grid(row=4, column=2)\n",
    "buttonEqual = tk.Button(main, text='=', width=5, height=2, font=('Arial', 18), command=calculate).grid(row=4, column=3)\n",
    "buttonP = tk.Button(main, text='+', width=5, height=2, font=('Arial', 18), command=lambda: clickButton('+')).grid(row=4, column=4)\n",
    "buttonC = tk.Button(main, text='C', width=22, height=2, font=('Arial', 18), command=clear).grid(row=5, column=1, columnspan=5)\n",
    "\n",
    "showText.focus_set()\n",
    "#(pady = 3)\n",
    "main.mainloop()"
   ]
  }
 ],
 "metadata": {
  "kernelspec": {
   "display_name": "Python 3 (ipykernel)",
   "language": "python",
   "name": "python3"
  },
  "language_info": {
   "codemirror_mode": {
    "name": "ipython",
    "version": 3
   },
   "file_extension": ".py",
   "mimetype": "text/x-python",
   "name": "python",
   "nbconvert_exporter": "python",
   "pygments_lexer": "ipython3",
   "version": "3.11.5"
  }
 },
 "nbformat": 4,
 "nbformat_minor": 5
}
